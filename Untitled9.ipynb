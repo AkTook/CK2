{
 "cells": [
  {
   "cell_type": "code",
   "execution_count": 3,
   "id": "946d9a23",
   "metadata": {},
   "outputs": [],
   "source": [
    "import random"
   ]
  },
  {
   "cell_type": "code",
   "execution_count": 20,
   "id": "deee424b",
   "metadata": {},
   "outputs": [
    {
     "name": "stdout",
     "output_type": "stream",
     "text": [
      "37\n"
     ]
    }
   ],
   "source": [
    "x= random.randint(1,100)\n",
    "print(x)"
   ]
  },
  {
   "cell_type": "code",
   "execution_count": 28,
   "id": "b61e6599",
   "metadata": {},
   "outputs": [
    {
     "name": "stdout",
     "output_type": "stream",
     "text": [
      "Choisis un nombre 34\n",
      "The number is to low\n",
      "Choisis un nombre 89\n",
      "The number is to low\n",
      "Choisis un nombre 91\n",
      "The number is to high\n",
      "Choisis un nombre 90\n",
      "Good job\n"
     ]
    }
   ],
   "source": [
    "x= random.randint(1,100)\n",
    "while True:\n",
    "    y= int(input(\"Choisis un nombre \"))\n",
    "    if y >x : \n",
    "        print(\"The number is to high\")\n",
    "    elif x> y : \n",
    "        print(\"The number is to low\")\n",
    "    else : \n",
    "        print(\"Good job\")\n",
    "        break\n",
    "    "
   ]
  },
  {
   "cell_type": "markdown",
   "id": "d66c8697",
   "metadata": {},
   "source": [
    "##### 3\n",
    "3\n",
    "\n",
    "3### print(3<0)\n"
   ]
  },
  {
   "cell_type": "code",
   "execution_count": 14,
   "id": "74be09be",
   "metadata": {},
   "outputs": [
    {
     "name": "stdout",
     "output_type": "stream",
     "text": [
      "True\n"
     ]
    }
   ],
   "source": [
    "print(not 0>3) \n"
   ]
  },
  {
   "cell_type": "code",
   "execution_count": null,
   "id": "c78320b8",
   "metadata": {},
   "outputs": [],
   "source": []
  }
 ],
 "metadata": {
  "kernelspec": {
   "display_name": "Python 3 (ipykernel)",
   "language": "python",
   "name": "python3"
  },
  "language_info": {
   "codemirror_mode": {
    "name": "ipython",
    "version": 3
   },
   "file_extension": ".py",
   "mimetype": "text/x-python",
   "name": "python",
   "nbconvert_exporter": "python",
   "pygments_lexer": "ipython3",
   "version": "3.10.9"
  }
 },
 "nbformat": 4,
 "nbformat_minor": 5
}
